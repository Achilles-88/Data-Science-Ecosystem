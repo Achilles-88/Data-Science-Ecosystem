{
 "cells": [
  {
   "cell_type": "markdown",
   "metadata": {},
   "source": [
    "<center>\n",
    "    <img src=\"https://cf-courses-data.s3.us.cloud-object-storage.appdomain.cloud/IBMDeveloperSkillsNetwork-DS0105EN-SkillsNetwork/labs/Module2/images/SN_web_lightmode.png\" width=\"300\" alt=\"cognitiveclass.ai logo\">\n",
    "</center>\n"
   ]
  },
  {
   "cell_type": "markdown",
   "metadata": {},
   "source": [
    "# Data Science Tools and EcoSystem"
   ]
  },
  {
   "cell_type": "markdown",
   "metadata": {},
   "source": [
    "*This notebook is a summary of the Data Science Tools microCertification (course 2 of 10)*"
   ]
  },
  {
   "cell_type": "markdown",
   "metadata": {},
   "source": [
    "**Objectives**\n",
    "* Introduce libraries, mainly in Python and R\n",
    "* Introduce popular languages and IDE for Data Scientists\n",
    "* Introduce Jupyter Notebook with basic math and markdown work\n",
    "* Introduce IBM's Model Asset eXchange and Data Asset eXchange\n"
   ]
  },
  {
   "cell_type": "markdown",
   "metadata": {},
   "source": [
    "**Some of the popular languages Data Scientists use:**\n",
    "1. Python\n",
    "2. RStudio/R\n",
    "3. Java\n",
    "4. SQL - MySQL, PostgreSQL, CouchDB, Cassandra, MongoDB\n",
    "5. Scala\n",
    "6. Apache Spark/Flink\n",
    "7. JavaScript\n",
    "8. Julia\n",
    "9. Knime\n",
    "10. Orange"
   ]
  },
  {
   "cell_type": "markdown",
   "metadata": {},
   "source": [
    "**Some of the commonly used libraries used in Data Science:**\n",
    "\n",
    "**Scientific Computing**\n",
    "1. Pandas: data structures and tools\n",
    "2. NumPy: matrices and arrays\n",
    "\n",
    "**Visualization**\n",
    "1. MatPlotLib: most popular\n",
    "2. Seaborn: heat maps, time series, violin plots\n",
    "\n",
    "**Deep Learning**\n",
    "1. Scikit-learn: ml regression, classification, clustering\n",
    "2. Keras: dl neural networks\n",
    "3. TensorFlow: production and deployment (bad for testing)\n",
    "4. Pytorch: testing\n",
    "5. Apache Spark"
   ]
  },
  {
   "cell_type": "markdown",
   "metadata": {},
   "source": [
    "6.) \n",
    "\n",
    "| Data Science Tools/IDE |\n",
    "|--------------------|\n",
    "| Jupyter Notebook/Lab/Lite   |\n",
    "| VScode             |\n",
    "| GoogleColab |"
   ]
  },
  {
   "cell_type": "markdown",
   "metadata": {},
   "source": [
    "### Evaluating arithmetic in Python: "
   ]
  },
  {
   "cell_type": "code",
   "execution_count": 2,
   "metadata": {
    "vscode": {
     "languageId": "python"
    }
   },
   "outputs": [
    {
     "data": {
      "text/plain": [
       "17"
      ]
     },
     "execution_count": 2,
     "metadata": {},
     "output_type": "execute_result"
    }
   ],
   "source": [
    "# This is a simple expression to multiply and add integers:\n",
    "\n",
    "(3 * 4) + 5"
   ]
  },
  {
   "cell_type": "code",
   "execution_count": 10,
   "metadata": {},
   "outputs": [
    {
     "name": "stdout",
     "output_type": "stream",
     "text": [
      "200 minutes =  3.33 hours\n"
     ]
    }
   ],
   "source": [
    "# This will convert 200 minutes to hours by dividing by 60\n",
    "\n",
    "print(\"200 minutes = \", round(200 / 60, 2), \"hours\")"
   ]
  },
  {
   "cell_type": "markdown",
   "metadata": {},
   "source": [
    "## Author\n",
    "Benny Frisella"
   ]
  }
 ],
 "metadata": {
  "kernelspec": {
   "display_name": "Python 3 (ipykernel)",
   "language": "python",
   "name": "python3"
  },
  "language_info": {
   "codemirror_mode": {
    "name": "ipython",
    "version": 3
   },
   "file_extension": ".py",
   "mimetype": "text/x-python",
   "name": "python",
   "nbconvert_exporter": "python",
   "pygments_lexer": "ipython3",
   "version": "3.9.5"
  }
 },
 "nbformat": 4,
 "nbformat_minor": 4
}
